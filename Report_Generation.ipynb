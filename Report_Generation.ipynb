{
 "cells": [
  {
   "cell_type": "markdown",
   "metadata": {},
   "source": [
    "\n",
    "![title](logos/cesi_exia.png)\n",
    "\n",
    "---\n",
    "\n",
    "\n",
    "\n",
    "### **Internship Project: Access Control Prototype using Facial Biometry**\n",
    "#### **Internship Period: 08/12/2021 - 03/02/2022**\n",
    "\n",
    "\n",
    "|Authors|Country|City|School|Campus|Position|Created|Updated|\n",
    "|---|---|---|---|---|---|---|---|\n",
    "|MD. HEMCH|Algeria|Oran|CESI ALGERIE|Oran|Student|23/01/2022|23/01/2022|\n",
    "|NK. BENAMARA|Algeria|Oran|CESI ALGERIE|Oran|Internship Supervisor|23/01/2022|23/01/2022|\n",
    "\n",
    "---\n",
    "\n",
    "|Packages|Version|\n",
    "|---|---|\n",
    "|Numpy|1.19.5|\n",
    "|Dataframe_image|0.1.1|\n",
    "|Pandas|1.1.5|\n",
    "\n",
    "\n",
    "\n",
    "\n"
   ]
  },
  {
   "cell_type": "code",
   "execution_count": 1,
   "metadata": {},
   "outputs": [],
   "source": [
    "#import Libraries\n",
    "import numpy as np\n",
    "import pandas as pd\n",
    "import os \n",
    "from glob import glob\n",
    "import dataframe_image as dfi \n",
    "from datetime import datetime"
   ]
  },
  {
   "cell_type": "code",
   "execution_count": 2,
   "metadata": {},
   "outputs": [],
   "source": [
    "PATH=os.getcwd()+'/gallery/'\n",
    "OUTPUT_PATH=os.getcwd()+'/report_logs/'\n",
    "\n",
    "NPY_FILES=['class_access_history.npy','access_history.npy','date_access.npy','time_access.npy', 'accessTime_history.npy']\n",
    "PD_COLUMNS=['Subject', 'Status', 'Date', 'At', 'Period']\n",
    "\n"
   ]
  },
  {
   "cell_type": "code",
   "execution_count": 3,
   "metadata": {},
   "outputs": [],
   "source": [
    "def generate_report(source_path, data_files, columns_titles, output_type, output_path):\n",
    "    '''\n",
    "    This function generate a report from several npy files, used to store access data\n",
    "    The available output extensions are: CSV and PNG\n",
    "    '''\n",
    "    data=np.array([np.load(source_path+data_files[0])])\n",
    "    accepted_output_extensions = [\"csv\", \"png\"]\n",
    "    for data_file in data_files[1:]:\n",
    "        data=np.concatenate((data, np.array([np.load(source_path+data_file)])), axis=0)\n",
    "    dataDf=pd.DataFrame(data=np.transpose(data), columns=columns_titles)\n",
    "\n",
    "    os.makedirs(output_path, exist_ok=True)\n",
    "\n",
    "    output_file_name = 'report'+datetime.now().strftime('%Y_%m_%d-at-%H_%M_%S.')\n",
    "    if output_type=='csv':\n",
    "        dataDf.to_csv(output_path+output_file_name+ output_type)\n",
    "        print('The report is generated in a {} format and saved at {}{}{}'.format(output_type.upper(), output_path, output_file_name, output_type))\n",
    "        \n",
    "    elif output_type=='png':\n",
    "        dataDf_png= dataDf.style.background_gradient()\n",
    "        dfi.export(dataDf_png,output_path+'report'+datetime.now().strftime('%Y_%m_%d-at-%H_%M_%S.'+ output_type))\n",
    "        print('The report is generated in a {} format and saved at {}{}{}'.format(output_type.upper(), output_path, output_file_name, output_type))\n",
    "        \n",
    "    else:\n",
    "        print('The selected output extension is invalid. You can choose the following extensions {}'.format(accepted_output_extensions))\n",
    "        \n",
    "    return dataDf"
   ]
  },
  {
   "cell_type": "code",
   "execution_count": 4,
   "metadata": {},
   "outputs": [
    {
     "name": "stdout",
     "output_type": "stream",
     "text": [
      "The report is generated in a PNG format and saved at c:\\Users\\nkben\\Documents\\VS_Code_Projects\\Access-Control-Prototype-using-Facial-Biometry/report_logs/report2022_01_23-at-20_32_39.png\n"
     ]
    },
    {
     "data": {
      "text/html": [
       "<div>\n",
       "<style scoped>\n",
       "    .dataframe tbody tr th:only-of-type {\n",
       "        vertical-align: middle;\n",
       "    }\n",
       "\n",
       "    .dataframe tbody tr th {\n",
       "        vertical-align: top;\n",
       "    }\n",
       "\n",
       "    .dataframe thead th {\n",
       "        text-align: right;\n",
       "    }\n",
       "</style>\n",
       "<table border=\"1\" class=\"dataframe\">\n",
       "  <thead>\n",
       "    <tr style=\"text-align: right;\">\n",
       "      <th></th>\n",
       "      <th>Subject</th>\n",
       "      <th>Status</th>\n",
       "      <th>Date</th>\n",
       "      <th>At</th>\n",
       "      <th>Period</th>\n",
       "    </tr>\n",
       "  </thead>\n",
       "  <tbody>\n",
       "    <tr>\n",
       "      <th>0</th>\n",
       "      <td>Djamel Hemch</td>\n",
       "      <td>Authorized</td>\n",
       "      <td>2022-1-23</td>\n",
       "      <td>22:10:45</td>\n",
       "      <td>Authorized at\\nworking hours</td>\n",
       "    </tr>\n",
       "    <tr>\n",
       "      <th>1</th>\n",
       "      <td>Jackie</td>\n",
       "      <td>Rejected</td>\n",
       "      <td>2022-1-23</td>\n",
       "      <td>13:00:05</td>\n",
       "      <td>Authorized at\\nworking hours</td>\n",
       "    </tr>\n",
       "    <tr>\n",
       "      <th>2</th>\n",
       "      <td>Statham</td>\n",
       "      <td>Authorized</td>\n",
       "      <td>2022-1-23</td>\n",
       "      <td>14:15:12</td>\n",
       "      <td>Authorized at\\nworking hours</td>\n",
       "    </tr>\n",
       "    <tr>\n",
       "      <th>3</th>\n",
       "      <td>Hetfield</td>\n",
       "      <td>Rejected</td>\n",
       "      <td>2022-1-23</td>\n",
       "      <td>17:10:43</td>\n",
       "      <td>Authorized at\\nworking hours</td>\n",
       "    </tr>\n",
       "  </tbody>\n",
       "</table>\n",
       "</div>"
      ],
      "text/plain": [
       "        Subject      Status       Date        At                        Period\n",
       "0  Djamel Hemch  Authorized  2022-1-23  22:10:45  Authorized at\\nworking hours\n",
       "1        Jackie    Rejected  2022-1-23  13:00:05  Authorized at\\nworking hours\n",
       "2       Statham  Authorized  2022-1-23  14:15:12  Authorized at\\nworking hours\n",
       "3      Hetfield    Rejected  2022-1-23  17:10:43  Authorized at\\nworking hours"
      ]
     },
     "execution_count": 4,
     "metadata": {},
     "output_type": "execute_result"
    }
   ],
   "source": [
    "generate_report(PATH, NPY_FILES, PD_COLUMNS, 'png',OUTPUT_PATH)"
   ]
  },
  {
   "cell_type": "code",
   "execution_count": 5,
   "metadata": {},
   "outputs": [
    {
     "name": "stdout",
     "output_type": "stream",
     "text": [
      "The report is generated in a CSV format and saved at c:\\Users\\nkben\\Documents\\VS_Code_Projects\\Access-Control-Prototype-using-Facial-Biometry/report_logs/report2022_01_23-at-20_32_53.csv\n"
     ]
    },
    {
     "data": {
      "text/html": [
       "<div>\n",
       "<style scoped>\n",
       "    .dataframe tbody tr th:only-of-type {\n",
       "        vertical-align: middle;\n",
       "    }\n",
       "\n",
       "    .dataframe tbody tr th {\n",
       "        vertical-align: top;\n",
       "    }\n",
       "\n",
       "    .dataframe thead th {\n",
       "        text-align: right;\n",
       "    }\n",
       "</style>\n",
       "<table border=\"1\" class=\"dataframe\">\n",
       "  <thead>\n",
       "    <tr style=\"text-align: right;\">\n",
       "      <th></th>\n",
       "      <th>Subject</th>\n",
       "      <th>Status</th>\n",
       "      <th>Date</th>\n",
       "      <th>At</th>\n",
       "      <th>Period</th>\n",
       "    </tr>\n",
       "  </thead>\n",
       "  <tbody>\n",
       "    <tr>\n",
       "      <th>0</th>\n",
       "      <td>Djamel Hemch</td>\n",
       "      <td>Authorized</td>\n",
       "      <td>2022-1-23</td>\n",
       "      <td>22:10:45</td>\n",
       "      <td>Authorized at\\nworking hours</td>\n",
       "    </tr>\n",
       "    <tr>\n",
       "      <th>1</th>\n",
       "      <td>Jackie</td>\n",
       "      <td>Rejected</td>\n",
       "      <td>2022-1-23</td>\n",
       "      <td>13:00:05</td>\n",
       "      <td>Authorized at\\nworking hours</td>\n",
       "    </tr>\n",
       "    <tr>\n",
       "      <th>2</th>\n",
       "      <td>Statham</td>\n",
       "      <td>Authorized</td>\n",
       "      <td>2022-1-23</td>\n",
       "      <td>14:15:12</td>\n",
       "      <td>Authorized at\\nworking hours</td>\n",
       "    </tr>\n",
       "    <tr>\n",
       "      <th>3</th>\n",
       "      <td>Hetfield</td>\n",
       "      <td>Rejected</td>\n",
       "      <td>2022-1-23</td>\n",
       "      <td>17:10:43</td>\n",
       "      <td>Authorized at\\nworking hours</td>\n",
       "    </tr>\n",
       "  </tbody>\n",
       "</table>\n",
       "</div>"
      ],
      "text/plain": [
       "        Subject      Status       Date        At                        Period\n",
       "0  Djamel Hemch  Authorized  2022-1-23  22:10:45  Authorized at\\nworking hours\n",
       "1        Jackie    Rejected  2022-1-23  13:00:05  Authorized at\\nworking hours\n",
       "2       Statham  Authorized  2022-1-23  14:15:12  Authorized at\\nworking hours\n",
       "3      Hetfield    Rejected  2022-1-23  17:10:43  Authorized at\\nworking hours"
      ]
     },
     "execution_count": 5,
     "metadata": {},
     "output_type": "execute_result"
    }
   ],
   "source": [
    "generate_report(PATH, NPY_FILES, PD_COLUMNS, 'csv',OUTPUT_PATH)"
   ]
  },
  {
   "cell_type": "code",
   "execution_count": null,
   "metadata": {},
   "outputs": [],
   "source": []
  }
 ],
 "metadata": {
  "interpreter": {
   "hash": "2665097fc4ce516606e956c6204c3983ee82c67aa1a9762c0115b5dd20c4b36b"
  },
  "kernelspec": {
   "display_name": "Python 3",
   "language": "python",
   "name": "python3"
  },
  "language_info": {
   "codemirror_mode": {
    "name": "ipython",
    "version": 3
   },
   "file_extension": ".py",
   "mimetype": "text/x-python",
   "name": "python",
   "nbconvert_exporter": "python",
   "pygments_lexer": "ipython3",
   "version": "3.6.5"
  }
 },
 "nbformat": 4,
 "nbformat_minor": 2
}
