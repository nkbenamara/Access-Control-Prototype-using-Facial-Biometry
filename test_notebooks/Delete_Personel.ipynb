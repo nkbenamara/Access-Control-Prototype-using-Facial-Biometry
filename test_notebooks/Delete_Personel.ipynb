{
 "cells": [
  {
   "cell_type": "markdown",
   "metadata": {},
   "source": [
    "### **Internship Project: FRekoAccess**\n",
    "#### **Internship Period: 08/12/2021 - 03/02/2022**\n",
    "\n",
    "\n",
    "|Authors|Country|City|School|Campus|Position|Created|Updated|\n",
    "|---|---|---|---|---|---|---|---|\n",
    "|MD. HEMCH|Algeria|Oran|CESI ALGERIE|Oran|Student|25/01/2022|25/01/2022|\n",
    "|NK. BENAMARA|Algeria|Oran|CESI ALGERIE|Oran|Internship Supervisor|25/01/2022|25/01/2022|\n",
    "\n",
    "---\n",
    "\n",
    "|Packages|Version|\n",
    "|---|---|\n",
    "|Numpy|1.19.5|\n"
   ]
  },
  {
   "cell_type": "code",
   "execution_count": 1,
   "metadata": {},
   "outputs": [],
   "source": [
    "import numpy as np\n",
    "from os.path import exists"
   ]
  },
  {
   "cell_type": "code",
   "execution_count": 2,
   "metadata": {},
   "outputs": [],
   "source": [
    "def delete_personel(model_name,class_name):\n",
    "    '''\n",
    "    This function deletes a selected personel from the gallery (x_train and y_train)\n",
    "    '''\n",
    "    \n",
    "    if model_name=='vgg16' or model_name=='resnet50': \n",
    "        x_train=np.load('../gallery/'+model_name+'_x_train.npy')\n",
    "        y_train=np.load('../gallery/'+model_name+'_y_train.npy')\n",
    "    else :\n",
    "        print('This {} model is not recognized. The available ones are vgg16 or resnet 50'.format(model_name))\n",
    "        return None\n",
    "    \n",
    "    if class_name in y_train:\n",
    "        indexes = np.where(y_train ==class_name)[0]\n",
    "    else:\n",
    "        print('{} does not exist in the gallery'.format(class_name))\n",
    "        return None\n",
    "\n",
    "    if exists('../gallery/deleted_'+model_name+'_y_train.npy'):\n",
    "        deleted_x_train=np.load('../gallery/deleted_'+model_name+'_x_train.npy')\n",
    "        deleted_y_train=np.load('../gallery/deleted_'+model_name+'_y_train.npy')\n",
    "\n",
    "        deleted_x_train = np.concatenate((deleted_x_train,np.expand_dims(x_train[indexes[0]], axis=0)), axis=0)\n",
    "        deleted_y_train = np.concatenate((deleted_y_train, np.expand_dims(y_train[indexes[0]], axis=0)), axis=0)\n",
    "    else:\n",
    "        deleted_x_train= np.array([])\n",
    "        deleted_y_train= np.array([])\n",
    "\n",
    "        deleted_x_train= np.expand_dims(np.append(deleted_x_train, x_train[indexes[0]]), axis=0)\n",
    "        deleted_y_train = np.expand_dims(np.append(deleted_y_train, y_train[indexes[0]]), axis=0)\n",
    "\n",
    "\n",
    "    for index in indexes[1:] :\n",
    "        feature_to_delete=  np.expand_dims(x_train[index], axis=0)\n",
    "        label_to_delete = np.expand_dims(y_train[index], axis=0)\n",
    "        deleted_x_train = np.concatenate((deleted_x_train,feature_to_delete), axis=0)\n",
    "        deleted_y_train = np.concatenate((deleted_y_train, label_to_delete), axis=0)\n",
    "    \n",
    "    x_train = np.delete(x_train, indexes, axis=0)\n",
    "    y_train = np.delete(y_train, indexes, axis=0)\n",
    "\n",
    "    np.save('../gallery/deleted_'+model_name+'_x_train.npy', deleted_x_train)\n",
    "    np.save('../gallery/deleted_'+model_name+'_y_train.npy', deleted_y_train)\n",
    "\n",
    "    np.save('../gallery/'+model_name+'_x_train.npy', x_train)\n",
    "    np.save('../gallery/'+model_name+'_y_train.npy', y_train)\n",
    "\n",
    "    print (\"The {} {} samples have been deleted with success\".format(class_name, model_name.upper()))\n",
    "\n",
    "    return None\n",
    "    "
   ]
  },
  {
   "cell_type": "code",
   "execution_count": 3,
   "metadata": {},
   "outputs": [
    {
     "name": "stdout",
     "output_type": "stream",
     "text": [
      "Bale does not exist in the gallery\n"
     ]
    }
   ],
   "source": [
    "delete_personel('resnet50','Bale')"
   ]
  },
  {
   "cell_type": "code",
   "execution_count": 4,
   "metadata": {},
   "outputs": [
    {
     "name": "stdout",
     "output_type": "stream",
     "text": [
      "This resnet model is not recognized. The available ones are vgg16 or resnet 50\n"
     ]
    }
   ],
   "source": [
    "#Unkown pretrained model\n",
    "delete_personel('resnet','Statham')"
   ]
  },
  {
   "cell_type": "code",
   "execution_count": 5,
   "metadata": {},
   "outputs": [
    {
     "name": "stdout",
     "output_type": "stream",
     "text": [
      "Nadir does not exist in the gallery\n"
     ]
    }
   ],
   "source": [
    "#Unkown class\n",
    "delete_personel('resnet50','Nadir')"
   ]
  },
  {
   "cell_type": "code",
   "execution_count": 6,
   "metadata": {},
   "outputs": [
    {
     "name": "stdout",
     "output_type": "stream",
     "text": [
      "The Madds RESNET50 samples have been deleted with success\n",
      "The Gosling RESNET50 samples have been deleted with success\n"
     ]
    }
   ],
   "source": [
    "#Remove two other collaborators\n",
    "delete_personel('resnet50','Madds')\n",
    "delete_personel('resnet50','Gosling')"
   ]
  },
  {
   "cell_type": "code",
   "execution_count": 7,
   "metadata": {},
   "outputs": [
    {
     "name": "stdout",
     "output_type": "stream",
     "text": [
      "The removed collaborators are :['Bale' 'Gosling' 'Madds']\n",
      "The remaining collaborators are :['Denzel' 'Gyllenhaal' 'Hetfield' 'Jackie' 'Pitt' 'Statham']\n"
     ]
    }
   ],
   "source": [
    "#display all removed collaborators and the available ones in the gallery\n",
    "removed_collaborators=np.load('../gallery/deleted_resnet50_y_train.npy')\n",
    "removed_collaborators = np.unique(removed_collaborators, return_counts=True)\n",
    "\n",
    "gallery_collaborators = np.load('../gallery/resnet50_y_train.npy')\n",
    "gallery_collaborators = np.unique(gallery_collaborators, return_counts=True)\n",
    "\n",
    "print('The removed collaborators are :{}'.format(removed_collaborators[0]))\n",
    "print('The remaining collaborators are :{}'.format(gallery_collaborators[0]))"
   ]
  }
 ],
 "metadata": {
  "interpreter": {
   "hash": "30d2e1aeb691404cec45294e5b16044362a4592d27c281be42479612b1d6236e"
  },
  "kernelspec": {
   "display_name": "Python 3.6.5 64-bit",
   "language": "python",
   "name": "python3"
  },
  "language_info": {
   "codemirror_mode": {
    "name": "ipython",
    "version": 3
   },
   "file_extension": ".py",
   "mimetype": "text/x-python",
   "name": "python",
   "nbconvert_exporter": "python",
   "pygments_lexer": "ipython3",
   "version": "3.6.5"
  },
  "orig_nbformat": 4
 },
 "nbformat": 4,
 "nbformat_minor": 2
}
