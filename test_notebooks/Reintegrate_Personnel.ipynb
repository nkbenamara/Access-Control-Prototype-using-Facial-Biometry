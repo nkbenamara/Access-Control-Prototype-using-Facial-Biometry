{
 "cells": [
  {
   "cell_type": "markdown",
   "metadata": {},
   "source": [
    "### **Internship Project: FRekoAccess**\n",
    "#### **Internship Period: 08/12/2021 - 03/02/2022**\n",
    "\n",
    "\n",
    "|Authors|Country|City|School|Campus|Position|Created|Updated|\n",
    "|---|---|---|---|---|---|---|---|\n",
    "|MD. HEMCH|Algeria|Oran|CESI ALGERIE|Oran|Student|25/01/2022|25/01/2022|\n",
    "|NK. BENAMARA|Algeria|Oran|CESI ALGERIE|Oran|Internship Supervisor|25/01/2022|25/01/2022|\n",
    "\n",
    "---\n",
    "\n",
    "|Packages|Version|\n",
    "|---|---|\n",
    "|Numpy|1.19.5|\n"
   ]
  },
  {
   "cell_type": "code",
   "execution_count": 1,
   "metadata": {},
   "outputs": [],
   "source": [
    "import numpy as np\n",
    "from os.path import exists"
   ]
  },
  {
   "cell_type": "code",
   "execution_count": 2,
   "metadata": {},
   "outputs": [],
   "source": [
    "def reinteger_one_collaborator(model_name, class_name):\n",
    "    '''\n",
    "    This function reintegrates all removed collaborators again to the gallery\n",
    "    '''\n",
    "    \n",
    "    if model_name=='vgg16' or model_name=='resnet50': \n",
    "        if not exists('../gallery/deleted_'+model_name+'_y_train.npy'):\n",
    "            return print('Any collaborator has been removed previously from the gallery to reintegrate')\n",
    "        else:\n",
    "            deleted_x_train=np.load('../gallery/deleted_'+model_name+'_x_train.npy')\n",
    "            deleted_y_train=np.load('../gallery/deleted_'+model_name+'_y_train.npy')\n",
    "            if deleted_y_train.size==0:\n",
    "                return print('Any collaborator has been removed previously from the gallery to reintegrate')\n",
    "            if np.where(deleted_y_train ==class_name)[0].size==0:\n",
    "                return print('{} does not exist in the removed gallery list to reintegrate'.format(class_name))\n",
    "    else :\n",
    "        print('This {} model is not recognized. The available ones are vgg16 or resnet 50'.format(model_name))\n",
    "        return None\n",
    "\n",
    "    indexes= np.where(deleted_y_train ==class_name)[0]\n",
    "\n",
    "    deleted_x_train_collaborator= np.array([])\n",
    "    deleted_y_train_collaborator= np.array([])\n",
    "\n",
    "    \n",
    "    deleted_x_train_collaborator= np.expand_dims(np.append(deleted_x_train_collaborator, deleted_x_train[indexes[0]]), axis=0)\n",
    "    deleted_y_train_collaborator = np.expand_dims(np.append(deleted_y_train_collaborator, deleted_y_train[indexes[0]]), axis=0)\n",
    "\n",
    "\n",
    "    for index in indexes[1:] :\n",
    "        feature_to_reintegrate=  np.expand_dims(deleted_x_train[index], axis=0)\n",
    "        label_to_reintegrate = np.expand_dims(deleted_y_train[index], axis=0)\n",
    "\n",
    "        deleted_x_train_collaborator = np.concatenate((deleted_x_train_collaborator,feature_to_reintegrate), axis=0)\n",
    "        deleted_y_train_collaborator = np.concatenate((deleted_y_train_collaborator, label_to_reintegrate), axis=0)\n",
    "    \n",
    "    x_train=np.load('../gallery/'+model_name+'_x_train.npy')\n",
    "    y_train=np.load('../gallery/'+model_name+'_y_train.npy')\n",
    "\n",
    "    x_train=np.concatenate((x_train, deleted_x_train_collaborator), axis=0)\n",
    "    y_train=np.concatenate((y_train, deleted_y_train_collaborator), axis=0)\n",
    "\n",
    "    \n",
    "\n",
    "    np.save('../gallery/'+model_name+'_x_train.npy', x_train)\n",
    "    np.save('../gallery/'+model_name+'_y_train.npy', y_train)\n",
    "    \n",
    "    print('==================================================================================')\n",
    "    print('{} has been reintegrated to the gallery again with sucess'.format(class_name))\n",
    "    print('==================================================================================')\n",
    "\n",
    "    deleted_x_train = np.delete(deleted_x_train, indexes, axis=0)\n",
    "    deleted_y_train = np.delete(deleted_y_train, indexes, axis=0)\n",
    "\n",
    "    np.save('../gallery/deleted_'+model_name+'_x_train.npy', deleted_x_train)\n",
    "    np.save('../gallery/deleted_'+model_name+'_y_train.npy', deleted_y_train)\n",
    "    \n",
    "    return None"
   ]
  },
  {
   "cell_type": "code",
   "execution_count": 3,
   "metadata": {},
   "outputs": [],
   "source": [
    "def reinteger_all(model_name):\n",
    "    '''\n",
    "    This function reintegrates all removed collaborators again to the gallery\n",
    "    '''\n",
    "    \n",
    "    if model_name=='vgg16' or model_name=='resnet50': \n",
    "        if not exists('../gallery/deleted_'+model_name+'_y_train.npy'):\n",
    "            return print('Any collaborator has been removed previously from the gallery to reintegrate')\n",
    "        else:\n",
    "            deleted_x_train=np.load('../gallery/deleted_'+model_name+'_x_train.npy')\n",
    "            deleted_y_train=np.load('../gallery/deleted_'+model_name+'_y_train.npy')\n",
    "            if deleted_y_train.size==0:\n",
    "                return print('Any collaborator has been removed previously from the gallery to reintegrate')\n",
    "    else :\n",
    "        print('This {} model is not recognized. The available ones are vgg16 or resnet 50'.format(model_name))\n",
    "        return None\n",
    "\n",
    "    x_train=np.load('../gallery/'+model_name+'_x_train.npy')\n",
    "    y_train=np.load('../gallery/'+model_name+'_y_train.npy')\n",
    "\n",
    "    x_train=np.concatenate((x_train, deleted_x_train), axis=0)\n",
    "    y_train=np.concatenate((y_train, deleted_y_train), axis=0)\n",
    "\n",
    "    \n",
    "\n",
    "    np.save('../gallery/'+model_name+'_x_train.npy', x_train)\n",
    "    np.save('../gallery/'+model_name+'_y_train.npy', y_train)\n",
    "    \n",
    "    print('==================================================================================')\n",
    "    print('All removed collaborators have been reintegrated to the gallery again with sucess')\n",
    "    print('The reintegrated collaborators are :{}'.format(np.unique(deleted_y_train, return_counts=True)[0]))\n",
    "    print('==================================================================================')\n",
    "\n",
    "    deleted_x_train=np.array([])\n",
    "    deleted_y_train=np.array([])\n",
    "    np.save('../gallery/deleted_'+model_name+'_x_train.npy', deleted_x_train)\n",
    "    np.save('../gallery/deleted_'+model_name+'_y_train.npy', deleted_y_train)\n",
    "    \n",
    "    return None"
   ]
  },
  {
   "cell_type": "code",
   "execution_count": 4,
   "metadata": {},
   "outputs": [],
   "source": [
    "def load_actual_collaborators(model_name):\n",
    "    '''\n",
    "    This function shows all available collaborators in the gallery\n",
    "    '''\n",
    "    if model_name=='vgg16' or model_name=='resnet50': \n",
    "        y_train=np.load('../gallery/'+model_name+'_y_train.npy')\n",
    "    else:\n",
    "        print('This {} model is not recognized. The available ones are vgg16 or resnet 50'.format(model_name))\n",
    "        return None\n",
    "    y_train = np.unique(y_train, return_counts=True) \n",
    "    return print('The actual collaborators are :{}'.format(y_train[0]))"
   ]
  },
  {
   "cell_type": "code",
   "execution_count": 5,
   "metadata": {},
   "outputs": [
    {
     "name": "stdout",
     "output_type": "stream",
     "text": [
      "The actual collaborators are :['Denzel' 'Gyllenhaal' 'Hetfield' 'Jackie' 'Pitt' 'Statham']\n",
      "==================================================================================\n",
      "Bale has been reintegrated to the gallery again with sucess\n",
      "==================================================================================\n",
      "The actual collaborators are :['Bale' 'Denzel' 'Gyllenhaal' 'Hetfield' 'Jackie' 'Pitt' 'Statham']\n",
      "==================================================================================\n",
      "All removed collaborators have been reintegrated to the gallery again with sucess\n",
      "The reintegrated collaborators are :['Gosling' 'Madds']\n",
      "==================================================================================\n",
      "The actual collaborators are :['Bale' 'Denzel' 'Gosling' 'Gyllenhaal' 'Hetfield' 'Jackie' 'Madds' 'Pitt'\n",
      " 'Statham']\n"
     ]
    }
   ],
   "source": [
    "#display the available ones in the gallery before/after reintegration\n",
    "\n",
    "load_actual_collaborators('resnet50')\n",
    "reinteger_one_collaborator('resnet50', 'Bale')\n",
    "\n",
    "load_actual_collaborators('resnet50')\n",
    "reinteger_all('resnet50')\n",
    "\n",
    "load_actual_collaborators('resnet50')\n"
   ]
  }
 ],
 "metadata": {
  "interpreter": {
   "hash": "2665097fc4ce516606e956c6204c3983ee82c67aa1a9762c0115b5dd20c4b36b"
  },
  "kernelspec": {
   "display_name": "Python 3.6.5 64-bit",
   "language": "python",
   "name": "python3"
  },
  "language_info": {
   "codemirror_mode": {
    "name": "ipython",
    "version": 3
   },
   "file_extension": ".py",
   "mimetype": "text/x-python",
   "name": "python",
   "nbconvert_exporter": "python",
   "pygments_lexer": "ipython3",
   "version": "3.6.5"
  },
  "orig_nbformat": 4
 },
 "nbformat": 4,
 "nbformat_minor": 2
}
